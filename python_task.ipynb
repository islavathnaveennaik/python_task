{
  "nbformat": 4,
  "nbformat_minor": 0,
  "metadata": {
    "colab": {
      "provenance": [],
      "include_colab_link": true
    },
    "kernelspec": {
      "name": "python3",
      "display_name": "Python 3"
    },
    "language_info": {
      "name": "python"
    }
  },
  "cells": [
    {
      "cell_type": "markdown",
      "metadata": {
        "id": "view-in-github",
        "colab_type": "text"
      },
      "source": [
        "<a href=\"https://colab.research.google.com/github/islavathnaveennaik/python_task/blob/main/python_task.ipynb\" target=\"_parent\"><img src=\"https://colab.research.google.com/assets/colab-badge.svg\" alt=\"Open In Colab\"/></a>"
      ]
    },
    {
      "cell_type": "markdown",
      "source": [
        "You are provided with a string ‘s’. Your task is to reverse the string using stack Data Structure.\n",
        "\n",
        "\n",
        "\n",
        "Input Description:\n",
        "\n",
        "You are given a string ‘s’.\n",
        "\n",
        "Output Description:\n",
        "\n",
        "Print the reverse string\n",
        "\n",
        "Sample Input :\n",
        "\n",
        "i am jsb\n",
        "\n",
        "Sample Output :\n",
        "\n",
        "jsb am i"
      ],
      "metadata": {
        "id": "1fpDHKU8w2Q9"
      }
    },
    {
      "cell_type": "code",
      "execution_count": 1,
      "metadata": {
        "id": "Cso3xgOSwwwy",
        "colab": {
          "base_uri": "https://localhost:8080/"
        },
        "outputId": "2cc1eb86-261b-4434-d588-6f1d997ebfe8"
      },
      "outputs": [
        {
          "output_type": "stream",
          "name": "stdout",
          "text": [
            "naveen\n",
            "neevan\n"
          ]
        }
      ],
      "source": [
        "def reverse_string(s):\n",
        "    \"\"\"Reverses a string using a stack data structure.\n",
        "\n",
        "    Args:\n",
        "        s: The input string.\n",
        "\n",
        "    Returns:\n",
        "        The reversed string.\n",
        "    \"\"\"\n",
        "\n",
        "    stack = []  # Initialize an empty list to act as a stack\n",
        "    reversed_string = \"\"\n",
        "\n",
        "    # Push characters onto the stack\n",
        "    for char in s:\n",
        "        stack.append(char)\n",
        "\n",
        "    # Pop characters from the stack and build the reversed string\n",
        "    while stack:  # while stack is not empty\n",
        "        reversed_string += stack.pop()\n",
        "\n",
        "    return reversed_string\n",
        "\n",
        "\n",
        "# Get input from the user\n",
        "input_string = input()\n",
        "\n",
        "# Reverse the string\n",
        "reversed_string = reverse_string(input_string)\n",
        "\n",
        "# Print the reversed string\n",
        "print(reversed_string)"
      ]
    },
    {
      "cell_type": "code",
      "source": [],
      "metadata": {
        "id": "IT24agD8xKxR"
      },
      "execution_count": null,
      "outputs": []
    },
    {
      "cell_type": "markdown",
      "source": [
        "Write a program to rotate the given string by the given number of times.\n",
        "\n",
        "Input Description:\n",
        "\n",
        "String, rotation times\n",
        "\n",
        "Output Description:\n",
        "\n",
        "print the Rotated string\n",
        "\n",
        "Sample Input :\n",
        "\n",
        "hello 3\n",
        "\n",
        "Sample Output :\n",
        "\n",
        "llohe"
      ],
      "metadata": {
        "id": "-yTSvkg5xLfJ"
      }
    },
    {
      "cell_type": "code",
      "source": [
        "def rotate_string(s, rotations):\n",
        "    \"\"\"Rotates a string by a given number of positions.\n",
        "\n",
        "    Args:\n",
        "        s: The input string.\n",
        "        rotations: The number of positions to rotate the string.  A positive\n",
        "                   value rotates to the right, a negative value rotates to the left.\n",
        "\n",
        "    Returns:\n",
        "        The rotated string.\n",
        "    \"\"\"\n",
        "\n",
        "    n = len(s)\n",
        "    rotations = rotations % n  # Handle rotations larger than string length\n",
        "\n",
        "    return s[-rotations:] + s[:-rotations] if rotations else s\n",
        "\n",
        "\n",
        "\n",
        "# Get input from the user (handling potential errors)\n",
        "try:\n",
        "    input_str, rotations_str = input().split(\",\")  # Split input by comma\n",
        "    rotations = int(rotations_str)\n",
        "\n",
        "    rotated_string = rotate_string(input_str, rotations)\n",
        "    print(rotated_string)\n",
        "\n",
        "except ValueError:\n",
        "    print(\"Invalid input. Please enter a string and an integer separated by a comma.\")\n",
        "except Exception as e:\n",
        "    print(f\"An error occurred: {e}\")"
      ],
      "metadata": {
        "id": "Zd9ckKR7xlC-",
        "colab": {
          "base_uri": "https://localhost:8080/"
        },
        "outputId": "3787bf9d-7d2e-4c02-c065-a1f850b3e939"
      },
      "execution_count": 6,
      "outputs": [
        {
          "output_type": "stream",
          "name": "stdout",
          "text": [
            "naveen,9\n",
            "eennav\n"
          ]
        }
      ]
    },
    {
      "cell_type": "code",
      "source": [],
      "metadata": {
        "id": "UuI3_VmUxli9"
      },
      "execution_count": null,
      "outputs": []
    },
    {
      "cell_type": "markdown",
      "source": [
        "You are given a number n,ranging from 1 to n. Out of which one number is missing. Your task is to print that missing number.\n",
        "\n",
        "\n",
        "\n",
        "Input Description:\n",
        "\n",
        "You are given a number ‘n’.\n",
        "\n",
        "Output Description:\n",
        "\n",
        "Print the missing number.\n",
        "\n",
        "Sample Input :\n",
        "\n",
        "5\n",
        "\n",
        "1 3 5 2\n",
        "\n",
        "Sample Output :\n",
        "\n",
        "4"
      ],
      "metadata": {
        "id": "EVQVzGr7xmHI"
      }
    },
    {
      "cell_type": "code",
      "source": [
        "def find_missing_number(n):\n",
        "    \"\"\"Finds the missing number in a sequence from 1 to n.\n",
        "\n",
        "    Args:\n",
        "        n: The upper limit of the sequence (inclusive).\n",
        "\n",
        "    Returns:\n",
        "        The missing number.\n",
        "    \"\"\"\n",
        "\n",
        "    expected_sum = n * (n + 1) // 2  # Sum of numbers from 1 to n\n",
        "    actual_sum = 0\n",
        "\n",
        "    try:\n",
        "        numbers_str = input()\n",
        "        numbers = [int(x) for x in numbers_str.split()]\n",
        "\n",
        "        for num in numbers:\n",
        "            actual_sum += num\n",
        "\n",
        "        missing_number = expected_sum - actual_sum\n",
        "        return missing_number\n",
        "\n",
        "    except ValueError:\n",
        "        return \"Invalid input. Please enter a sequence of integers separated by spaces.\"\n",
        "    except Exception as e:\n",
        "        return f\"An error occurred: {e}\"\n",
        "\n",
        "\n",
        "\n",
        "# Get input and find the missing number\n",
        "\n",
        "try:\n",
        "    n = int(input())\n",
        "\n",
        "    if 1 <= n <= 100000:  #constraint given in problem\n",
        "        missing_number = find_missing_number(n)\n",
        "        print(missing_number)\n",
        "    else:\n",
        "        print(\"n is out of range\")\n",
        "except ValueError:\n",
        "    print(\"Invalid input. Please enter an integer for n.\")\n",
        "except Exception as e:\n",
        "    print(f\"An error occurred: {e}\")"
      ],
      "metadata": {
        "id": "LHsXjKiUx0g6",
        "colab": {
          "base_uri": "https://localhost:8080/"
        },
        "outputId": "9afdc586-dbc5-4ed7-8fd5-3cc399b6638c"
      },
      "execution_count": 9,
      "outputs": [
        {
          "output_type": "stream",
          "name": "stdout",
          "text": [
            "10\n",
            "1 2 3 4 5 6 8 9 10\n",
            "7\n"
          ]
        }
      ]
    },
    {
      "cell_type": "code",
      "source": [],
      "metadata": {
        "id": "C7zPRJIZx1AG"
      },
      "execution_count": null,
      "outputs": []
    },
    {
      "cell_type": "markdown",
      "source": [
        "You are given given task is to print whether array is ‘majestic’ or not.A ‘majsetic’ array is an array whose sum of first three number is equal to last three number.\n",
        "\n",
        "Input Description:\n",
        "\n",
        "You are given a number ‘n’,Next line contains ‘n’ space separated\n",
        "\n",
        "Output Description:\n",
        "\n",
        "Print 1 if array is majestic and 0 if it is not\n",
        "\n",
        "Sample Input :\n",
        "\n",
        "7\n",
        "\n",
        "1 2 3 4 6 0 0\n",
        "\n",
        "Sample Output :\n",
        "\n",
        "1"
      ],
      "metadata": {
        "id": "-RArkTV2x1jU"
      }
    },
    {
      "cell_type": "code",
      "source": [
        "def is_majestic(arr):\n",
        "    \"\"\"Checks if an array is 'majestic'.\n",
        "\n",
        "    Args:\n",
        "        arr: The input array of numbers.\n",
        "\n",
        "    Returns:\n",
        "        1 if the array is majestic, 0 otherwise.\n",
        "    \"\"\"\n",
        "\n",
        "    n = len(arr)\n",
        "\n",
        "    if n < 6:  # An array must have at least 6 elements to be majestic\n",
        "        return 0\n",
        "\n",
        "    sum_first_three = sum(arr[:3])\n",
        "    sum_last_three = sum(arr[-3:])\n",
        "\n",
        "    if sum_first_three == sum_last_three:\n",
        "        return 1\n",
        "    else:\n",
        "        return 0\n",
        "\n",
        "\n",
        "try:\n",
        "    n = int(input())\n",
        "\n",
        "    if 0 < n <= 100:  # Constraint given in problem\n",
        "        numbers_str = input()\n",
        "        numbers = [int(x) for x in numbers_str.split()]\n",
        "\n",
        "        if len(numbers) != n:\n",
        "            print(\"Number of elements does not match n.\")\n",
        "        else:\n",
        "            result = is_majestic(numbers)\n",
        "            print(result)\n",
        "    else:\n",
        "        print(\"n is out of range\")\n",
        "\n",
        "except ValueError:\n",
        "    print(\"Invalid input. Please enter integers.\")\n",
        "except Exception as e:\n",
        "    print(f\"An error occurred: {e}\")"
      ],
      "metadata": {
        "id": "rKv2YggoyC_R",
        "colab": {
          "base_uri": "https://localhost:8080/"
        },
        "outputId": "6c35d050-4744-4368-8aae-a26c3965584a"
      },
      "execution_count": 10,
      "outputs": [
        {
          "output_type": "stream",
          "name": "stdout",
          "text": [
            "6\n",
            "1 2 3 1 2 3\n",
            "1\n"
          ]
        }
      ]
    },
    {
      "cell_type": "code",
      "source": [],
      "metadata": {
        "id": "jQtBFbw5yDeR"
      },
      "execution_count": null,
      "outputs": []
    },
    {
      "cell_type": "markdown",
      "source": [
        "You are given a String representing a binary tree your task is print the level order traversal of it.\n",
        "\n",
        "\n",
        "\n",
        "Input Description:\n",
        "\n",
        "You are given with a string ‘s’.\n",
        "\n",
        "Output Description:\n",
        "\n",
        "Print the binary tree’s level order traversal\n",
        "\n",
        "Sample Input :\n",
        "\n",
        "1 0 L 1 2 R\n",
        "\n",
        "Sample Output :\n",
        "\n",
        "1 0 2"
      ],
      "metadata": {
        "id": "Qi1ybpfmyEKx"
      }
    },
    {
      "cell_type": "code",
      "source": [
        "class Node:  # Define a node class for the tree\n",
        "    def __init__(self, val):\n",
        "        self.val = val\n",
        "        self.left = None\n",
        "        self.right = None\n",
        "\n",
        "def string_to_tree(s):  # Function to build tree from string\n",
        "    if not s:\n",
        "        return None\n",
        "\n",
        "    nodes = s.split()  # Split the string into nodes\n",
        "    root = Node(int(nodes[0]))  # Create the root node\n",
        "    queue = [root]  # Use a queue for level-order construction\n",
        "    i = 1\n",
        "\n",
        "    while i < len(nodes):\n",
        "        node = queue.pop(0)  # Get the current node\n",
        "\n",
        "        if nodes[i] != 'N':  # If left child exists\n",
        "            node.left = Node(int(nodes[i]))\n",
        "            queue.append(node.left)\n",
        "        i += 1\n",
        "\n",
        "        if i < len(nodes) and nodes[i] != 'N':  # If right child exists\n",
        "            node.right = Node(int(nodes[i]))\n",
        "            queue.append(node.right)\n",
        "        i += 1\n",
        "\n",
        "    return root\n",
        "\n",
        "def level_order_traversal(root):  # Function for level order traversal\n",
        "    if not root:\n",
        "        return []\n",
        "\n",
        "    result = []\n",
        "    queue = [root]\n",
        "\n",
        "    while queue:\n",
        "        level = []\n",
        "        for _ in range(len(queue)):  # Process each level\n",
        "            node = queue.pop(0)\n",
        "            level.append(node.val)  # Add node value to current level\n",
        "            if node.left:\n",
        "                queue.append(node.left)  # Add left child to the queue\n",
        "            if node.right:\n",
        "                queue.append(node.right)  # Add right child to the queue\n",
        "        result.append(level)  # Add current level to the result\n",
        "\n",
        "    return result\n",
        "\n",
        "# Get input and process\n",
        "s = input()  # Get string representation\n",
        "root = string_to_tree(s)  # Build the tree\n",
        "level_order = level_order_traversal(root)  # Perform traversal\n",
        "\n",
        "# Print the result in the desired format\n",
        "for level in level_order:\n",
        "    print(*level)  # Print each level on a separate line"
      ],
      "metadata": {
        "id": "2WcB8xQRyhti",
        "colab": {
          "base_uri": "https://localhost:8080/"
        },
        "outputId": "b4004d15-b058-487b-d98f-8a5f7f967fa5"
      },
      "execution_count": 11,
      "outputs": [
        {
          "output_type": "stream",
          "name": "stdout",
          "text": [
            "1 2 3 N N 4 5\n",
            "1\n",
            "2 3\n",
            "4 5\n"
          ]
        }
      ]
    },
    {
      "cell_type": "code",
      "source": [],
      "metadata": {
        "id": "Vo9IDUQ-yiLQ"
      },
      "execution_count": null,
      "outputs": []
    },
    {
      "cell_type": "markdown",
      "source": [
        "Given 3 numbers N,E,A where N is the number of nodes and E is the number of edges(weight of each edge is 1), find the shortest path from node 1 to given node A.\n",
        "\n",
        "Input Size : E,N <= 100000\n",
        "\n",
        "Sample Testcase :\n",
        "\n",
        "INPUT\n",
        "\n",
        "2 2 2\n",
        "\n",
        "1 2\n",
        "\n",
        "2 1\n",
        "\n",
        "OUTPUT\n",
        "\n",
        "1"
      ],
      "metadata": {
        "id": "VLMiyveKyi8q"
      }
    },
    {
      "cell_type": "code",
      "source": [
        "from collections import deque\n",
        "\n",
        "def shortest_path(n, edges, a):\n",
        "    \"\"\"\n",
        "    Finds the shortest path from node 1 to node 'a' in a graph.\n",
        "\n",
        "    Args:\n",
        "        n: The number of nodes in the graph.\n",
        "        edges: A list of tuples, where each tuple represents an edge (u, v).\n",
        "        a: The destination node.\n",
        "\n",
        "    Returns:\n",
        "        The shortest path length from node 1 to node 'a', or -1 if no path exists.\n",
        "    \"\"\"\n",
        "\n",
        "    adj = [[] for _ in range(n + 1)]  # Adjacency list to represent the graph\n",
        "\n",
        "    for u, v in edges:\n",
        "        adj[u].append(v)\n",
        "        adj[v].append(u)  # Since the graph is undirected\n",
        "\n",
        "    queue = deque([(1, 0)])  # Queue for BFS, storing (node, distance)\n",
        "    visited = [False] * (n + 1)\n",
        "    visited[1] = True\n",
        "\n",
        "    while queue:\n",
        "        curr_node, dist = queue.popleft()\n",
        "\n",
        "        if curr_node == a:\n",
        "            return dist\n",
        "\n",
        "        for neighbor in adj[curr_node]:\n",
        "            if not visited[neighbor]:\n",
        "                visited[neighbor] = True\n",
        "                queue.append((neighbor, dist + 1))\n",
        "\n",
        "    return -1  # No path found\n",
        "\n",
        "\n",
        "try:\n",
        "    e, n = map(int, input().split())  # Number of edges and nodes\n",
        "    edges = []\n",
        "\n",
        "    for _ in range(e):\n",
        "        u, v = map(int, input().split())  # Read the edges\n",
        "        edges.append((u, v))\n",
        "\n",
        "    a = int(input())  # Destination node\n",
        "\n",
        "    shortest_path_len = shortest_path(n, edges, a)\n",
        "    print(shortest_path_len)\n",
        "\n",
        "except ValueError:\n",
        "    print(\"Invalid input. Please enter integers.\")\n",
        "except Exception as e:\n",
        "    print(f\"An error occurred: {e}\")"
      ],
      "metadata": {
        "id": "q7sUwalHzBI_",
        "colab": {
          "base_uri": "https://localhost:8080/"
        },
        "outputId": "e18d95f2-439a-4cd5-8ed0-5114c3a563dd"
      },
      "execution_count": 14,
      "outputs": [
        {
          "output_type": "stream",
          "name": "stdout",
          "text": [
            "5 5\n",
            "1 2\n",
            "1 3\n",
            "2 4\n",
            "3 4\n",
            "4 5\n",
            "5\n",
            "3\n"
          ]
        }
      ]
    },
    {
      "cell_type": "code",
      "source": [],
      "metadata": {
        "id": "oWicm68XzBht"
      },
      "execution_count": null,
      "outputs": []
    },
    {
      "cell_type": "markdown",
      "source": [
        "A tree is a connected acyclic graph. A bipartite graph is a graph, whose vertices can be partitionedinto 2 sets in such a way, that for each edge (u, v) that belongs to the graph, u and v belong todifferent sets. You can find more formal definitions of a tree and a bipartite graph in the notessection below. Consider a tree consisting of n nodes and add edges to it in such a way, that the graph is stillbipartite. Besides, after adding these edges the graph should be simple (should’nt contain loops ormultiple edges). What is the maximum number of edges they can add? A loop is an edge, which connects a node with itself. Graph doesn't contain multiple edges when foreach pair of nodes there is no more than one edge between them. A cycle and a loop aren't thesame.\n",
        "Input Size : |N| <= 1000000\n",
        "\n",
        "Sample Testcase :\n",
        "\n",
        "INPUT\n",
        "\n",
        "5\n",
        "\n",
        "1 2\n",
        "\n",
        "2 3\n",
        "\n",
        "3 4\n",
        "\n",
        "4 5\n",
        "\n",
        "OUTPUT\n",
        "\n",
        "2"
      ],
      "metadata": {
        "id": "WpAcH_AFzCNJ"
      }
    },
    {
      "cell_type": "code",
      "source": [
        "def max_edges_to_add(n):\n",
        "    \"\"\"Calculates the maximum number of edges that can be added to a tree\n",
        "    while keeping it bipartite and simple.\n",
        "\n",
        "    Args:\n",
        "        n: The number of nodes in the tree.\n",
        "\n",
        "    Returns:\n",
        "        The maximum number of edges that can be added.\n",
        "    \"\"\"\n",
        "    if n <= 0:\n",
        "        return 0  # Handle invalid input\n",
        "\n",
        "    added_edges = (n // 2) * ((n + 1) // 2) - (n - 1)\n",
        "    return added_edges\n",
        "\n",
        "\n",
        "try:\n",
        "    n = int(input())\n",
        "\n",
        "    if 0 <= n <= 1000000:  # Constraint given in problem\n",
        "\n",
        "        result = max_edges_to_add(n)\n",
        "        print(result)\n",
        "\n",
        "    else:\n",
        "        print(\"n is out of range\")\n",
        "\n",
        "except ValueError:\n",
        "    print(\"Invalid input. Please enter an integer.\")\n",
        "except Exception as e:\n",
        "    print(f\"An error occurred: {e}\")"
      ],
      "metadata": {
        "colab": {
          "base_uri": "https://localhost:8080/"
        },
        "id": "HGPf250yvKL0",
        "outputId": "19687f47-ca37-4dd0-dfab-2f4a54e155a7"
      },
      "execution_count": 23,
      "outputs": [
        {
          "output_type": "stream",
          "name": "stdout",
          "text": [
            "5\n",
            "2\n"
          ]
        }
      ]
    },
    {
      "cell_type": "code",
      "source": [],
      "metadata": {
        "id": "IvASlycUvaqa"
      },
      "execution_count": null,
      "outputs": []
    },
    {
      "cell_type": "markdown",
      "source": [
        "Given a string and a number K, change every kth character to uppercase from beginning in string.\n",
        "\n",
        "Sample Testcase :\n",
        "\n",
        "INPUT\n",
        "\n",
        "string 2\n",
        "\n",
        "OUTPUT\n",
        "\n",
        "sTrInG"
      ],
      "metadata": {
        "id": "3MoLtdQMzgB-"
      }
    },
    {
      "cell_type": "code",
      "source": [
        "def modify_string(s, k):\n",
        "    result = \"\"\n",
        "    for i in range(len(s)):\n",
        "        if (i + 1) % k == 0:\n",
        "            result += s[i].upper()  # Convert to uppercase\n",
        "        else:\n",
        "            result += s[i]       # Keep original case\n",
        "    return result\n",
        "\n",
        "# Get input from the user (optional)\n",
        "input_str = input()\n",
        "s, k = input_str.split()\n",
        "k = int(k) #convert k to integer\n",
        "modified_s = modify_string(s, k)\n",
        "print(modified_s)\n"
      ],
      "metadata": {
        "id": "20vcNQ9xzq1C",
        "colab": {
          "base_uri": "https://localhost:8080/"
        },
        "outputId": "e04c3027-2eea-44c5-9c4c-7526b1290b26"
      },
      "execution_count": 31,
      "outputs": [
        {
          "output_type": "stream",
          "name": "stdout",
          "text": [
            "\"hello\", 1\n",
            "\"HELLO\",\n"
          ]
        }
      ]
    },
    {
      "cell_type": "code",
      "source": [],
      "metadata": {
        "id": "HjjlUH_czra2"
      },
      "execution_count": null,
      "outputs": []
    },
    {
      "cell_type": "markdown",
      "source": [
        "Swagger and Rock are playing a word game. They need to check the two strings use the same base alphabets. Two strings are said to have same base alphabets if they use the same characters to form the word. eg: rescue and curse have same base alphabets - c,e,r,s,u.If it so print 'true' else print 'false'.\n",
        "Input Size : |S| <= 1000000\n",
        "\n",
        "Sample Testcase :\n",
        "\n",
        "INPUT\n",
        "\n",
        "rescue curse\n",
        "\n",
        "OUTPUT\n",
        "\n",
        "true"
      ],
      "metadata": {
        "id": "oE1P4AFAzsIq"
      }
    },
    {
      "cell_type": "code",
      "source": [
        "def same_base_alphabets(str1, str2):\n",
        "    \"\"\"\n",
        "    Checks if two strings have the same base alphabets (unique characters).\n",
        "\n",
        "    Args:\n",
        "        str1: The first string.\n",
        "        str2: The second string.\n",
        "\n",
        "    Returns:\n",
        "        \"true\" if the strings have the same base alphabets, \"false\" otherwise.\n",
        "    \"\"\"\n",
        "\n",
        "    set1 = set(str1)\n",
        "    set2 = set(str2)\n",
        "\n",
        "    if set1 == set2:\n",
        "        return \"true\"\n",
        "    else:\n",
        "        return \"false\"\n",
        "\n",
        "# Get input from the user\n",
        "input_str = input()\n",
        "str1, str2 = input_str.split()  # Split the input into two strings\n",
        "\n",
        "# Check and print the result\n",
        "result = same_base_alphabets(str1, str2)\n",
        "print(result)\n"
      ],
      "metadata": {
        "id": "ALTlUxbO0CDy",
        "colab": {
          "base_uri": "https://localhost:8080/"
        },
        "outputId": "6ade91c7-01fe-4a1f-ad67-87e39e27c752"
      },
      "execution_count": 30,
      "outputs": [
        {
          "output_type": "stream",
          "name": "stdout",
          "text": [
            "\"rescue\", \"curse\"\n",
            "false\n"
          ]
        }
      ]
    },
    {
      "cell_type": "markdown",
      "source": [
        "You are given two strings . Your task is to tell whether the pair of strings is panagram.\n",
        "\n",
        "A pair of strings are said to be panagram if they both are palindrome and are anagram of each other.\n",
        "\n",
        "Input Description:\n",
        "\n",
        "You will be given two strings ‘s1’ and ‘s2’\n",
        "\n",
        "Output Description:\n",
        "\n",
        "Print 1 if they are panagram and 0 if they are not\n",
        "\n",
        "Sample Input :\n",
        "\n",
        "nitin intni\n",
        "\n",
        "Sample Output :\n",
        "\n",
        "1"
      ],
      "metadata": {
        "id": "dLiaX3-W0C1R"
      }
    },
    {
      "cell_type": "code",
      "source": [
        "def is_palindrome(s):\n",
        "    return s == s[::-1]\n",
        "\n",
        "def is_anagram(s1, s2):\n",
        "    return sorted(s1) == sorted(s2)\n",
        "\n",
        "def is_panagram(s1, s2):\n",
        "    return is_palindrome(s1) and is_palindrome(s2) and is_anagram(s1, s2)\n",
        "\n",
        "# Get input and process\n",
        "s1, s2 = input().split()  # Reads two strings from the same line, separated by space\n",
        "if is_panagram(s1, s2):\n",
        "    print(1)\n",
        "else:\n",
        "    print(0)\n",
        ""
      ],
      "metadata": {
        "id": "C0HBZ_aH0T3F",
        "colab": {
          "base_uri": "https://localhost:8080/"
        },
        "outputId": "ce7079ea-564a-43c8-ac60-6cfc3753b465"
      },
      "execution_count": 35,
      "outputs": [
        {
          "output_type": "stream",
          "name": "stdout",
          "text": [
            "\"hello\", \"world\"\n",
            "0\n"
          ]
        }
      ]
    },
    {
      "cell_type": "code",
      "source": [],
      "metadata": {
        "id": "q1VAEno20UH8"
      },
      "execution_count": null,
      "outputs": []
    },
    {
      "cell_type": "markdown",
      "source": [
        "Write a program to get a string S, Type of conversion (1 - Convert to Lowercase, 2 - Convert to Uppercase) T, and integer P . Convert the case of the letters in the positions which are multiples of P.(1 based indexing).\n",
        "\n",
        "Input Description:\n",
        "\n",
        "Given a string S, Type of conversion T, and integer P\n",
        "\n",
        "Output Description:\n",
        "\n",
        "Convert the case of the letters and print the string\n",
        "\n",
        "Sample Input :\n",
        "\n",
        "ProFiLe\n",
        "\n",
        "1\n",
        "\n",
        "2\n",
        "\n",
        "Sample Output :\n",
        "\n",
        "Profile"
      ],
      "metadata": {
        "id": "tsJVg9fw0VAV"
      }
    },
    {
      "cell_type": "code",
      "source": [
        "def modify_string(s, t, p):\n",
        "    \"\"\"\n",
        "    Converts the case of characters at multiples of p in string s.\n",
        "\n",
        "    Args:\n",
        "        s: The input string.\n",
        "        t: The conversion type (1 for lowercase, 2 for uppercase).\n",
        "        p: The position multiple.\n",
        "\n",
        "    Returns:\n",
        "        The modified string.\n",
        "    \"\"\"\n",
        "\n",
        "    result = \"\"\n",
        "    for i in range(len(s)):\n",
        "        if (i + 1) % p == 0:  # 1-based indexing\n",
        "            if t == 1:\n",
        "                result += s[i].lower()\n",
        "            elif t == 2:\n",
        "                result += s[i].upper()\n",
        "            else:  # Handle invalid input for t (optional)\n",
        "                result += s[i]  # Or raise an error\n",
        "        else:\n",
        "            result += s[i]\n",
        "    return result\n",
        "\n",
        "# Get input\n",
        "s = input()\n",
        "t = int(input())  # Convert t to integer\n",
        "p = int(input())  # Convert p to integer\n",
        "\n",
        "# Modify the string and print the result\n",
        "modified_s = modify_string(s, t, p)\n",
        "print(modified_s)"
      ],
      "metadata": {
        "id": "NocYKseo0iLi",
        "colab": {
          "base_uri": "https://localhost:8080/"
        },
        "outputId": "a29cde19-77c3-4f25-b4e9-2babe1d3b1cf"
      },
      "execution_count": 37,
      "outputs": [
        {
          "output_type": "stream",
          "name": "stdout",
          "text": [
            "naveen\n",
            "6\n",
            "9\n",
            "naveen\n"
          ]
        }
      ]
    },
    {
      "cell_type": "code",
      "source": [],
      "metadata": {
        "id": "FT7KxsZ20isn"
      },
      "execution_count": null,
      "outputs": []
    },
    {
      "cell_type": "markdown",
      "source": [
        "You are given a string ‘s’.Your task is to print the string in alternate lowercase and uppercase order.\n",
        "\n",
        "Input Description:\n",
        "\n",
        "You are given a string\n",
        "\n",
        "Output Description:\n",
        "\n",
        "Print the string according to given criteria\n",
        "\n",
        "Sample Input :\n",
        "\n",
        "abcd efgh ijkl\n",
        "\n",
        "Sample Output :\n",
        "\n",
        "ABCD efgh IJKL"
      ],
      "metadata": {
        "id": "DitPpooH0jHA"
      }
    },
    {
      "cell_type": "code",
      "source": [
        "def alternate_case(s):\n",
        "    \"\"\"Prints the string in alternate lowercase and uppercase.\"\"\"\n",
        "\n",
        "    words = s.split()  # Split the string into words\n",
        "    result = []\n",
        "\n",
        "    for word in words:\n",
        "        modified_word = \"\"\n",
        "        for i, char in enumerate(word):\n",
        "            if i % 2 == 0:  # Even index: uppercase\n",
        "                modified_word += char.upper()\n",
        "            else:  # Odd index: lowercase\n",
        "                modified_word += char.lower()\n",
        "        result.append(modified_word)\n",
        "\n",
        "    print(\" \".join(result))  # Join the words back with spaces\n",
        "\n",
        "\n",
        "# Get input\n",
        "s = input()\n",
        "\n",
        "# Process and print\n",
        "alternate_case(s)"
      ],
      "metadata": {
        "id": "rcOneMpL0rZV",
        "colab": {
          "base_uri": "https://localhost:8080/"
        },
        "outputId": "25de8105-ee1a-48dd-dd65-5e280fb415ab"
      },
      "execution_count": 38,
      "outputs": [
        {
          "output_type": "stream",
          "name": "stdout",
          "text": [
            "abcd efgh ijkl\n",
            "AbCd EfGh IjKl\n"
          ]
        }
      ]
    },
    {
      "cell_type": "code",
      "source": [],
      "metadata": {
        "id": "KUIVJgT10ryL"
      },
      "execution_count": null,
      "outputs": []
    },
    {
      "cell_type": "markdown",
      "source": [
        "You are given some words all in lower case letters your task is to print them in sorted order.\n",
        "\n",
        "Input Description:\n",
        "\n",
        "You are given a string ‘s’\n",
        "\n",
        "Output Description:\n",
        "\n",
        "Print the string in sorted order\n",
        "\n",
        "Sample Input :\n",
        "\n",
        "virat kohli\n",
        "\n",
        "Sample Output :\n",
        "\n",
        "kohli virat"
      ],
      "metadata": {
        "id": "lCNTipNi0smT"
      }
    },
    {
      "cell_type": "code",
      "source": [
        "def sort_words(s):\n",
        "    \"\"\"Sorts the words in a string alphabetically.\n",
        "\n",
        "    Args:\n",
        "      s: The input string.\n",
        "\n",
        "    Returns:\n",
        "      The string with words sorted alphabetically.\n",
        "    \"\"\"\n",
        "    words = s.split()  # Split the string into a list of words\n",
        "    words.sort()  # Sort the list of words alphabetically\n",
        "    return \" \".join(words)  # Join the sorted words back into a string\n",
        "\n",
        "# Get input\n",
        "s = input()\n",
        "\n",
        "# Sort and print\n",
        "sorted_s = sort_words(s)\n",
        "print(sorted_s)"
      ],
      "metadata": {
        "id": "VxxBLwHm00nh",
        "colab": {
          "base_uri": "https://localhost:8080/"
        },
        "outputId": "790baea3-ce95-4112-806f-369b3a6e6c77"
      },
      "execution_count": 39,
      "outputs": [
        {
          "output_type": "stream",
          "name": "stdout",
          "text": [
            "naveen islavath\n",
            "islavath naveen\n"
          ]
        }
      ]
    },
    {
      "cell_type": "code",
      "source": [],
      "metadata": {
        "id": "7FlcJHqb01Au"
      },
      "execution_count": null,
      "outputs": []
    },
    {
      "cell_type": "markdown",
      "source": [
        " Jennyfer is fond of strings. She wants to read the character from right to left (reverse the string), so she wants you to design a suitable algorithm which satisfy her desire.\n",
        "\n",
        "Input Description:\n",
        "\n",
        "Enter the string ‘s’\n",
        "\n",
        "Output Description:\n",
        "\n",
        "Print the string from characters right to left.\n",
        "\n",
        "Sample Input :\n",
        "\n",
        "jennyfer\n",
        "\n",
        "Sample Output :\n",
        "\n",
        "Refynnej"
      ],
      "metadata": {
        "id": "19Mr1GES01mf"
      }
    },
    {
      "cell_type": "code",
      "source": [
        "s = input()  # Get the string from the user\n",
        "reversed_s = s[::-1]  # Reverse the string using slicing\n",
        "print(reversed_s)  # Print the reversed string"
      ],
      "metadata": {
        "id": "8oCuukAO1AF5",
        "colab": {
          "base_uri": "https://localhost:8080/"
        },
        "outputId": "9f465364-397b-4be7-bcc0-e476e99e3b5c"
      },
      "execution_count": 40,
      "outputs": [
        {
          "output_type": "stream",
          "name": "stdout",
          "text": [
            "naveen\n",
            "neevan\n"
          ]
        }
      ]
    },
    {
      "cell_type": "code",
      "source": [],
      "metadata": {
        "id": "OSj0cItk1AUv"
      },
      "execution_count": null,
      "outputs": []
    },
    {
      "cell_type": "markdown",
      "source": [
        "Indian PAN card issuing authority have found some fake PAN cards. They have hired you so that you can validate PAN card for them. Your task is to develop a suitable algorithm which could check if pan is valid or not\n",
        "\n",
        "1)Pan must have uppercase letters only.\n",
        "\n",
        "2)It must be of 10 character only\n",
        "\n",
        "3)From index 1 to 5 all must be letters(A-Z),last index must be letter\n",
        "\n",
        "4)Rest all must be integer Starting from 1\n",
        "\n",
        "Input Description:\n",
        "\n",
        "You are given a input string which indicates the PAN number\n",
        "\n",
        "Output Description:\n",
        "\n",
        "Print 'pan' if it is valid PAN number, else print 'not pan'\n",
        "\n",
        "Sample Input :\n",
        "\n",
        "HXTPS2142R\n",
        "\n",
        "Sample Output :\n",
        "\n",
        "pan"
      ],
      "metadata": {
        "id": "kg-2w8Mt1Ayu"
      }
    },
    {
      "cell_type": "code",
      "source": [
        "def validate_pan(pan):\n",
        "    \"\"\"Validates a PAN card number.\n",
        "\n",
        "    Args:\n",
        "        pan: The PAN card number string.\n",
        "\n",
        "    Returns:\n",
        "        \"pan\" if the PAN is valid, \"not pan\" otherwise.\n",
        "    \"\"\"\n",
        "\n",
        "    if len(pan) != 10:\n",
        "        return \"not pan\"\n",
        "\n",
        "    if not pan.isupper():\n",
        "        return \"not pan\"\n",
        "\n",
        "    for i in range(5):\n",
        "        if not 'A' <= pan[i] <= 'Z':\n",
        "            return \"not pan\"\n",
        "\n",
        "    for i in range(5, 9):\n",
        "        if not '0' <= pan[i] <= '9':\n",
        "            return \"not pan\"\n",
        "\n",
        "    if not 'A' <= pan[9] <= 'Z':\n",
        "        return \"not pan\"\n",
        "\n",
        "    return \"pan\"\n",
        "\n",
        "\n",
        "# Get input\n",
        "pan_number = input()\n",
        "\n",
        "# Validate and print the result\n",
        "result = validate_pan(pan_number)\n",
        "print(result)"
      ],
      "metadata": {
        "id": "xEJRGM_t1YkV",
        "colab": {
          "base_uri": "https://localhost:8080/"
        },
        "outputId": "254cb349-727e-41dc-bba5-889b28b2d131"
      },
      "execution_count": 41,
      "outputs": [
        {
          "output_type": "stream",
          "name": "stdout",
          "text": [
            "XARPN556A\n",
            "not pan\n"
          ]
        }
      ]
    },
    {
      "cell_type": "code",
      "source": [],
      "metadata": {
        "id": "imxnjU5s1ZBy"
      },
      "execution_count": null,
      "outputs": []
    },
    {
      "cell_type": "markdown",
      "source": [
        "Given a string S, print 2 strings such that first string containing all characters in odd position(s) and other containing all characters in even position(s).\n",
        "\n",
        "Sample Testcase :\n",
        "\n",
        "INPUT:\n",
        "\n",
        "XCODE\n",
        "\n",
        "OUTPUT:\n",
        "\n",
        "XOE CD"
      ],
      "metadata": {
        "id": "npzQdgam1Zbv"
      }
    },
    {
      "cell_type": "code",
      "source": [
        "def split_string(s):\n",
        "    \"\"\"Splits a string into two strings based on odd and even positions.\n",
        "\n",
        "    Args:\n",
        "        s: The input string.\n",
        "\n",
        "    Returns:\n",
        "        A tuple containing two strings: the odd-position characters and the\n",
        "        even-position characters.\n",
        "    \"\"\"\n",
        "\n",
        "    odd_chars = \"\"\n",
        "    even_chars = \"\"\n",
        "\n",
        "    for i in range(len(s)):\n",
        "        if (i + 1) % 2 != 0:  # Odd position (1-based index)\n",
        "            odd_chars += s[i]\n",
        "        else:  # Even position\n",
        "            even_chars += s[i]\n",
        "\n",
        "    return odd_chars, even_chars\n",
        "\n",
        "\n",
        "# Get input\n",
        "s = input()\n",
        "\n",
        "# Split the string\n",
        "odd_chars, even_chars = split_string(s)\n",
        "\n",
        "# Print the results\n",
        "print(odd_chars, even_chars)"
      ],
      "metadata": {
        "id": "mjKOnldo1lb2",
        "colab": {
          "base_uri": "https://localhost:8080/"
        },
        "outputId": "efdf22e2-bc86-4ccb-ff81-b18edf6e3f76"
      },
      "execution_count": 43,
      "outputs": [
        {
          "output_type": "stream",
          "name": "stdout",
          "text": [
            "ycode\n",
            "yoe cd\n"
          ]
        }
      ]
    },
    {
      "cell_type": "code",
      "source": [],
      "metadata": {
        "id": "h-vMT7ic1lz7"
      },
      "execution_count": null,
      "outputs": []
    },
    {
      "cell_type": "markdown",
      "source": [
        "You are given a string.Your task is to print only the consonants present in the string without affecting the sentence spacings if present. If no consonants are present print -1\n",
        "\n",
        "Input Description:\n",
        "\n",
        "You are given a string ‘s’.\n",
        "\n",
        "Output Description:\n",
        "\n",
        "Print only consonants.\n",
        "\n",
        "Sample Input :\n",
        "\n",
        "I am shrey\n",
        "\n",
        "Sample Output :\n",
        "\n",
        " m shry"
      ],
      "metadata": {
        "id": "8S0KczY61mOh"
      }
    },
    {
      "cell_type": "code",
      "source": [
        "def extract_consonants(s):\n",
        "    \"\"\"Extracts consonants from a string, preserving spaces.\n",
        "\n",
        "    Args:\n",
        "        s: The input string.\n",
        "\n",
        "    Returns:\n",
        "        A string containing only the consonants, or \"-1\" if no consonants\n",
        "        are found.\n",
        "    \"\"\"\n",
        "\n",
        "    consonants = \"\"\n",
        "    for char in s:\n",
        "        if 'a' <= char.lower() <= 'z':  # Check if it's a letter\n",
        "            if char.lower() not in 'aeiou':  # Check if it's a consonant\n",
        "                consonants += char\n",
        "        elif char == ' ': #preserve the spaces\n",
        "            consonants += char\n",
        "\n",
        "    if not consonants:  # Check if any consonants were found\n",
        "        return \"-1\"\n",
        "    else:\n",
        "        return consonants\n",
        "\n",
        "\n",
        "# Get input\n",
        "s = input()\n",
        "\n",
        "# Extract consonants and print\n",
        "result = extract_consonants(s)\n",
        "print(result)"
      ],
      "metadata": {
        "id": "cCcfY_oY1vlZ",
        "colab": {
          "base_uri": "https://localhost:8080/"
        },
        "outputId": "2a87b33c-025c-4e91-da61-ae49420f4b29"
      },
      "execution_count": 44,
      "outputs": [
        {
          "output_type": "stream",
          "name": "stdout",
          "text": [
            "I am naveen\n",
            " m nvn\n"
          ]
        }
      ]
    },
    {
      "cell_type": "code",
      "source": [],
      "metadata": {
        "id": "uFi_nu1f1v0x"
      },
      "execution_count": null,
      "outputs": []
    },
    {
      "cell_type": "markdown",
      "source": [
        "You are given a string ‘s’.Your task is to print the string in the order they are present and then sum of digits.\n",
        "\n",
        "Input Description:\n",
        "\n",
        "You are given a string ‘s’.\n",
        "\n",
        "Output Description:\n",
        "\n",
        "Print the string and then at last sum of all the digits\n",
        "\n",
        "Sample Input :\n",
        "\n",
        "AC30BD40\n",
        "\n",
        "Sample Output :\n",
        "\n",
        "ACBD7"
      ],
      "metadata": {
        "id": "d9hMecN_1wZO"
      }
    },
    {
      "cell_type": "code",
      "source": [
        "def process_string(s):\n",
        "    \"\"\"Processes a string to extract letters and sum digits.\n",
        "\n",
        "    Args:\n",
        "      s: The input string.\n",
        "\n",
        "    Returns:\n",
        "      A tuple containing the string with letters and the sum of digits.\n",
        "    \"\"\"\n",
        "\n",
        "    letters = \"\"\n",
        "    digit_sum = 0\n",
        "\n",
        "    for char in s:\n",
        "        if 'A' <= char <= 'Z' or 'a' <= char <= 'z':  # Check for letters\n",
        "            letters += char\n",
        "        elif '0' <= char <= '9':  # Check for digits\n",
        "            digit_sum += int(char)  # Convert to integer and add\n",
        "\n",
        "    return letters, digit_sum\n",
        "\n",
        "\n",
        "# Get input\n",
        "s = input()\n",
        "\n",
        "# Process the string\n",
        "letters_part, digit_sum = process_string(s)\n",
        "\n",
        "# Print the output\n",
        "print(letters_part + str(digit_sum))  # Concatenate and print"
      ],
      "metadata": {
        "id": "_1WwPBfG1691",
        "colab": {
          "base_uri": "https://localhost:8080/"
        },
        "outputId": "841d2e68-eecc-41f7-e336-aeaf1019395a"
      },
      "execution_count": 45,
      "outputs": [
        {
          "output_type": "stream",
          "name": "stdout",
          "text": [
            "AC30BD40\n",
            "ACBD7\n"
          ]
        }
      ]
    },
    {
      "cell_type": "code",
      "source": [],
      "metadata": {
        "id": "5vqPvAoS17Zu"
      },
      "execution_count": null,
      "outputs": []
    },
    {
      "cell_type": "markdown",
      "source": [
        "You are given two numbers. Your task is to multiply the two numbers and print the answer.\n",
        "\n",
        "Input Description:\n",
        "\n",
        "You are given two numbers ‘n’ and ‘m’.\n",
        "\n",
        "Output Description:\n",
        "\n",
        "Print the multiplied answer\n",
        "\n",
        "Sample Input :\n",
        "\n",
        "99999 99998\n",
        "\n",
        "Sample Output :\n",
        "\n",
        "9999700002"
      ],
      "metadata": {
        "id": "YNz7DB-q4DqZ"
      }
    },
    {
      "cell_type": "code",
      "source": [
        "# Get input and convert to integers\n",
        "n, m = map(int, input().split())\n",
        "\n",
        "# Multiply the numbers\n",
        "result = n * m\n",
        "\n",
        "# Print the result\n",
        "print(result)"
      ],
      "metadata": {
        "id": "0bYvrLpd4Q9l",
        "colab": {
          "base_uri": "https://localhost:8080/"
        },
        "outputId": "3dc8e4d4-a578-4418-9f4e-0bf5f40ba937"
      },
      "execution_count": 46,
      "outputs": [
        {
          "output_type": "stream",
          "name": "stdout",
          "text": [
            "99999 99998\n",
            "9999700002\n"
          ]
        }
      ]
    },
    {
      "cell_type": "code",
      "source": [],
      "metadata": {
        "id": "FRDz-h0M4RNq"
      },
      "execution_count": null,
      "outputs": []
    },
    {
      "cell_type": "markdown",
      "source": [
        "You are given a string ‘s’. Your task is to find whether string is beautiful or not. A string is said to be beautiful whenever string is made up of only three characters. All the three characters must be distinct. Print true if string is beautiful and false when it is not beautiful\n",
        "\n",
        "Input Description:\n",
        "\n",
        "You are given a string\n",
        "\n",
        "Output Description:\n",
        "\n",
        "Print ‘1’ when string is beautiful and ‘0’ when it is not\n",
        "\n",
        "Sample Input :\n",
        "\n",
        "Aab\n",
        "\n",
        "Sample Output :\n",
        "\n",
        "1"
      ],
      "metadata": {
        "id": "gqqQM-nU4Rl6"
      }
    },
    {
      "cell_type": "code",
      "source": [
        "def is_beautiful(s):\n",
        "    \"\"\"Checks if a string is \"beautiful\" according to the given criteria.\n",
        "\n",
        "    Args:\n",
        "        s: The input string.\n",
        "\n",
        "    Returns:\n",
        "        1 if the string is beautiful, 0 otherwise.\n",
        "    \"\"\"\n",
        "\n",
        "    unique_chars = set(s)  # Use a set to efficiently find unique characters\n",
        "\n",
        "    if len(unique_chars) <= 3:  # Check if there are at most 3 unique characters\n",
        "        return 1\n",
        "    else:\n",
        "        return 0\n",
        "\n",
        "# Get input\n",
        "s = input()\n",
        "\n",
        "# Check and print\n",
        "result = is_beautiful(s)\n",
        "print(result)"
      ],
      "metadata": {
        "id": "2e5P5G6W4Zl2",
        "colab": {
          "base_uri": "https://localhost:8080/"
        },
        "outputId": "b63040f3-7551-4ac4-fc5c-58fcef981da0"
      },
      "execution_count": 47,
      "outputs": [
        {
          "output_type": "stream",
          "name": "stdout",
          "text": [
            "aabbcccdd\n",
            "0\n"
          ]
        }
      ]
    },
    {
      "cell_type": "code",
      "source": [],
      "metadata": {
        "id": "cDA2pL6y4aAj"
      },
      "execution_count": null,
      "outputs": []
    }
  ]
}